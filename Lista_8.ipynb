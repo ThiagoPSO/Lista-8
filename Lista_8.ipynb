{
  "nbformat": 4,
  "nbformat_minor": 0,
  "metadata": {
    "colab": {
      "name": "Lista 8",
      "provenance": []
    },
    "kernelspec": {
      "name": "python3",
      "display_name": "Python 3"
    },
    "language_info": {
      "name": "python"
    }
  },
  "cells": [
    {
      "cell_type": "code",
      "metadata": {
        "colab": {
          "base_uri": "https://localhost:8080/"
        },
        "id": "XUBLkPPWIbZr",
        "outputId": "bb1f44bb-9aa9-4938-8371-b347f35ac1be"
      },
      "source": [
        "import random\n",
        "\n",
        "def escolhe(matricula):\n",
        "    random.seed(matricula)\n",
        "    cap1 = (2,8,9,11,12,15,16,18,20,21,22,24,26,27,28,30,31,32)    \n",
        "    cap2 = (36,40,44,45,46,48,50,51,53,55,56,57,59,60)\n",
        "    cap3 = (63,64,65,68,71,72,74,76,78,80,81,84)\n",
        "    cap4 = (85,86,87,89,91,92,94,97,99,101,103,104,106)\n",
        "    cap5 = (111,115,117,118,119,122,123,124,126,127,131,132,133)\n",
        "    cap6 = (138,139,140,141,144,147,148)\n",
        "    cap7 = (152,153,154,155,157,160,161,164,165,166,168,171,172)\n",
        "    cap8 = (174,175,176,177,179,181,182,185)\n",
        "    return(random.sample(cap8, k=2))\n",
        "\n",
        "print(\"Você deverá entregar os exercícios: \", escolhe(input(\"Escreva o número de sua matricula\")))"
      ],
      "execution_count": 4,
      "outputs": [
        {
          "output_type": "stream",
          "text": [
            "Escreva o número de sua matricula 180055143\n",
            "Você deverá entregar os exercícios:  [174, 176]\n"
          ],
          "name": "stdout"
        }
      ]
    },
    {
      "cell_type": "markdown",
      "metadata": {
        "id": "Lj3qs9JM6Cdm"
      },
      "source": [
        "**Exercícios obrigatórios:**"
      ]
    },
    {
      "cell_type": "markdown",
      "metadata": {
        "id": "WzflwFy96FGQ"
      },
      "source": [
        "Exercício 174: Greatest Common Divisor\n"
      ]
    },
    {
      "cell_type": "code",
      "metadata": {
        "colab": {
          "base_uri": "https://localhost:8080/"
        },
        "id": "Wxb_IXUj6IfZ",
        "outputId": "cae5f8fc-2ea4-473f-cfe0-b264eb62d14f"
      },
      "source": [
        "def mdc(a,b):\n",
        "  if b == 0:\n",
        "    return a\n",
        "  else:\n",
        "    c = a % b\n",
        "    return mdc(b,c)\n",
        "\n",
        "a1 = int(input(\"Digite um valor:\"))\n",
        "b1 = int(input(\"Digite outro valor:\"))\n",
        "\n",
        "mdc(a1,b1)"
      ],
      "execution_count": 3,
      "outputs": [
        {
          "output_type": "stream",
          "text": [
            "Digite um valor:4\n",
            "Digite outro valor:6\n"
          ],
          "name": "stdout"
        },
        {
          "output_type": "execute_result",
          "data": {
            "text/plain": [
              "2"
            ]
          },
          "metadata": {
            "tags": []
          },
          "execution_count": 3
        }
      ]
    },
    {
      "cell_type": "markdown",
      "metadata": {
        "id": "XNftdEfG-Lpu"
      },
      "source": [
        "Exercício 176: The NATO Phonetic Alphabet"
      ]
    },
    {
      "cell_type": "code",
      "metadata": {
        "colab": {
          "base_uri": "https://localhost:8080/"
        },
        "id": "cZ0R_H7D-oAG",
        "outputId": "341e72f1-a28b-4371-a6f2-320d4aeaccc0"
      },
      "source": [
        "NATO = {\"A\":\"Alpha\",\n",
        "        \"B\":\"Bravo\",\n",
        "        \"C\":\"Charlie\",\n",
        "        \"D\":\"Delta\",\n",
        "        \"E\":\"Echo\",\n",
        "        \"F\":\"Foxtrot\",\n",
        "        \"G\":\"Golf\",\n",
        "        \"H\":\"Hotel\",\n",
        "        \"I\":\"India\",\n",
        "        \"J\":\"Juliet\",\n",
        "        \"K\":\"Kilo\",\n",
        "        \"L\":\"Lima\",\n",
        "        \"M\":\"Mike\",\n",
        "        \"N\":\"November\",\n",
        "        \"O\":\"Oscar\",\n",
        "        \"P\":\"Papa\",\n",
        "        \"Q\":\"Quebec\",\n",
        "        \"R\":\"Romeo\",\n",
        "        \"S\":\"Sierra\",\n",
        "        \"T\":\"Tango\",\n",
        "        \"U\":\"Uniform\",\n",
        "        \"V\":\"Victor\",\n",
        "        \"W\":\"Whiskey\",\n",
        "        \"X\":\"Xray\",\n",
        "        \"Y\":\"Yankee\",\n",
        "        \"Z\":\"Zulu\"}\n",
        "\n",
        "def phonetic(word):\n",
        "  word = word.upper()\n",
        "  if len(word) == 0:\n",
        "    return \n",
        "  elif word[0] in NATO.keys():\n",
        "    a = NATO[word[0]]\n",
        "    word = word[1:len(word)]\n",
        "    print(a)\n",
        "    return (phonetic(word))\n",
        "  elif word[0] not in NATO.keys():\n",
        "    word = word[1:len(word)]\n",
        "    return (phonetic(word))\n",
        "phonetic(\"12Hello\")"
      ],
      "execution_count": 36,
      "outputs": [
        {
          "output_type": "stream",
          "text": [
            "Hotel\n",
            "Echo\n",
            "Lima\n",
            "Lima\n",
            "Oscar\n"
          ],
          "name": "stdout"
        }
      ]
    }
  ]
}